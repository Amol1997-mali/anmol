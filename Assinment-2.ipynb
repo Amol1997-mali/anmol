{
 "cells": [
  {
   "cell_type": "markdown",
   "metadata": {},
   "source": [
    "Question 1: Create the below pattern using nested for loop in Python.\n",
    "\n",
    "*  \n",
    "* * \n",
    "* * * \n",
    "* * * *  \n",
    "* * * * * \n",
    "* * * * \n",
    "* * *  \n",
    "* * \n",
    "* \n",
    " \n",
    " \n"
   ]
  },
  {
   "cell_type": "code",
   "execution_count": 2,
   "metadata": {},
   "outputs": [
    {
     "name": "stdout",
     "output_type": "stream",
     "text": [
      "\n",
      "\n",
      "*\n",
      "\n",
      "**\n",
      "\n",
      "***\n",
      "\n",
      "****\n",
      "\n",
      "*****\n",
      "\n",
      "****\n",
      "\n",
      "***\n",
      "\n",
      "**\n",
      "\n",
      "*\n",
      "\n"
     ]
    }
   ],
   "source": [
    "maxx=5\n",
    "end=maxx*2\n",
    "for i in range(maxx):\n",
    "    for j in range(0,i):\n",
    "        print(\"*\",end=\"\")\n",
    "    print(\"\\n\")\n",
    "for i in range(maxx+1,end+1):   \n",
    "    for j in range(end,i-1,-1):\n",
    "        print(\"*\",end=\"\")\n",
    "    print(\"\\n\")    "
   ]
  },
  {
   "cell_type": "markdown",
   "metadata": {},
   "source": [
    "Question 2:Write a Python program to reverse a word after accepting the input from the user.\n",
    "Sample Output: \n",
    "Input word: ineuron\n",
    "Output: norueni"
   ]
  },
  {
   "cell_type": "code",
   "execution_count": 97,
   "metadata": {},
   "outputs": [
    {
     "name": "stdout",
     "output_type": "stream",
     "text": [
      "ineuron\n"
     ]
    },
    {
     "data": {
      "text/plain": [
       "'norueni'"
      ]
     },
     "execution_count": 97,
     "metadata": {},
     "output_type": "execute_result"
    }
   ],
   "source": [
    "a=input()\n",
    "b=list(a)\n",
    "b.reverse()\n",
    "\"\".join(b)"
   ]
  }
 ],
 "metadata": {
  "kernelspec": {
   "display_name": "Python 3",
   "language": "python",
   "name": "python3"
  },
  "language_info": {
   "codemirror_mode": {
    "name": "ipython",
    "version": 3
   },
   "file_extension": ".py",
   "mimetype": "text/x-python",
   "name": "python",
   "nbconvert_exporter": "python",
   "pygments_lexer": "ipython3",
   "version": "3.7.4"
  }
 },
 "nbformat": 4,
 "nbformat_minor": 2
}
